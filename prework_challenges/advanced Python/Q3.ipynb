{
 "cells": [
  {
   "cell_type": "code",
   "execution_count": 1,
   "metadata": {},
   "outputs": [],
   "source": [
    "faculty_path = './temp_dir/faculty.csv'"
   ]
  },
  {
   "cell_type": "code",
   "execution_count": 8,
   "metadata": {},
   "outputs": [],
   "source": [
    "def emails(csv_file_name):\n",
    "    \n",
    "    # Load data\n",
    "    with open(csv_file_name, 'r') as f:\n",
    "        orig_file = []\n",
    "        for line in f:\n",
    "            orig_file.append(line)\n",
    "        f.close()\n",
    "    \n",
    "    # Clean data, getting rid of column names and all other columns\n",
    "    del orig_file[0]\n",
    "    \n",
    "    text = []\n",
    "    for line in orig_file:\n",
    "        text.append(line.split(','))\n",
    "        \n",
    "    cleaned_text = []\n",
    "    for line in text:\n",
    "        cleaned_text.append(line[-1].rstrip())\n",
    "    \n",
    "    # Alphabetically sort\n",
    "    cleaned_text.sort()\n",
    "        \n",
    "    return cleaned_text"
   ]
  },
  {
   "cell_type": "code",
   "execution_count": 9,
   "metadata": {},
   "outputs": [
    {
     "data": {
      "text/plain": [
       "['alisaste@mail.med.upenn.edu',\n",
       " 'atroxel@mail.med.upenn.edu',\n",
       " 'bcfrench@mail.med.upenn.edu',\n",
       " 'bellamys@mail.med.upenn.edu',\n",
       " 'bryanma@upenn.edu',\n",
       " 'dxie@upenn.edu',\n",
       " 'hongzhe@upenn.edu',\n",
       " 'hshou@mail.med.upenn.edu',\n",
       " 'hsu9@mail.med.upenn.edu',\n",
       " 'jaroy@mail.med.upenn.edu',\n",
       " 'jellenbe@mail.med.upenn.edu',\n",
       " 'jinboche@upenn.edu',\n",
       " 'jrlandis@mail.med.upenn.edu',\n",
       " 'jshults@mail.med.upenn.edu',\n",
       " 'knashawn@mail.med.upenn.edu',\n",
       " 'liy3@email.chop.edu',\n",
       " 'michross@upenn.edu',\n",
       " 'mingyao@mail.med.upenn.edu',\n",
       " 'mjoffe@mail.med.upenn.edu',\n",
       " 'mputt@mail.med.upenn.edu',\n",
       " 'msammel@cceb.med.upenn.edu',\n",
       " 'nanditam@mail.med.upenn.edu',\n",
       " 'pgimotty@upenn.edu',\n",
       " 'propert@mail.med.upenn.edu',\n",
       " 'rhubb@mail.med.upenn.edu',\n",
       " 'rlocalio@upenn.edu',\n",
       " 'rshi@mail.med.upenn.edu',\n",
       " 'ruifeng@upenn.edu',\n",
       " 'rxiao@mail.med.upenn.edu',\n",
       " 'sellenbe@upenn.edu',\n",
       " 'shawp@upenn.edu',\n",
       " 'sratclif@upenn.edu',\n",
       " 'sxie@mail.med.upenn.edu',\n",
       " 'warren@upenn.edu',\n",
       " 'weiyang@mail.med.upenn.edu',\n",
       " 'wguo@mail.med.upenn.edu',\n",
       " 'whwang@mail.med.upenn.edu']"
      ]
     },
     "execution_count": 9,
     "metadata": {},
     "output_type": "execute_result"
    }
   ],
   "source": [
    "email_list = emails(faculty_path)\n",
    "email_list"
   ]
  },
  {
   "cell_type": "code",
   "execution_count": null,
   "metadata": {},
   "outputs": [],
   "source": []
  }
 ],
 "metadata": {
  "kernelspec": {
   "display_name": "Python 3",
   "language": "python",
   "name": "python3"
  },
  "language_info": {
   "codemirror_mode": {
    "name": "ipython",
    "version": 3
   },
   "file_extension": ".py",
   "mimetype": "text/x-python",
   "name": "python",
   "nbconvert_exporter": "python",
   "pygments_lexer": "ipython3",
   "version": "3.7.2"
  }
 },
 "nbformat": 4,
 "nbformat_minor": 2
}
