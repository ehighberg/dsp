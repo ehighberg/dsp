{
 "cells": [
  {
   "cell_type": "code",
   "execution_count": 5,
   "metadata": {},
   "outputs": [],
   "source": [
    "import re\n",
    "import os\n",
    "from collections import defaultdict"
   ]
  },
  {
   "cell_type": "code",
   "execution_count": 9,
   "metadata": {},
   "outputs": [],
   "source": [
    "faculty_path = './temp_dir/faculty.csv'"
   ]
  },
  {
   "cell_type": "code",
   "execution_count": 46,
   "metadata": {},
   "outputs": [],
   "source": [
    "import re\n",
    "from collections import defaultdict\n",
    "\n",
    "def count_degrees(csv_file_name):\n",
    "    \n",
    "    # Load data\n",
    "    with open(csv_file_name, 'r') as f:\n",
    "        orig_file = []\n",
    "        for line in f:\n",
    "            orig_file.append(line)\n",
    "        f.close()\n",
    "    \n",
    "    # Clean data, getting rid of column names and all other columns\n",
    "    del orig_file[0]\n",
    "    \n",
    "    text = []\n",
    "    for line in orig_file:\n",
    "        text.append(line.split(','))\n",
    "        \n",
    "    cleaned_text = []\n",
    "    for line in text:\n",
    "        cleaned_text.append(line[1])\n",
    "    cleaned_text = ' '.join(cleaned_text)\n",
    "    \n",
    "    # Setup regexes for each degree type\n",
    "    MD_reg = re.compile('MD')\n",
    "    MA_reg = re.compile('MA')\n",
    "    SCD_reg = re.compile('Sc.D|ScD')\n",
    "    BSED_reg = re.compile('B.S.Ed')\n",
    "    PHD_reg = re.compile('Ph.D|PhD')\n",
    "    zero_reg = re.compile('0')\n",
    "    MPH_reg = re.compile('MPH')\n",
    "    MS_reg = re.compile('M.S|MS')\n",
    "    JD_reg = re.compile('JD')\n",
    "    \n",
    "    # Setup defaultdict\n",
    "    degree_counts = defaultdict()\n",
    "    \n",
    "    # Search for degrees and add their counts to the dict\n",
    "    degree_counts['MD'] = len(MD_reg.findall(cleaned_text))\n",
    "    degree_counts['MA'] = len(MA_reg.findall(cleaned_text))\n",
    "    degree_counts['SCD'] = len(SCD_reg.findall(cleaned_text))\n",
    "    degree_counts['BSED'] = len(BSED_reg.findall(cleaned_text))\n",
    "    degree_counts['PHD'] = len(PHD_reg.findall(cleaned_text))\n",
    "    degree_counts['0'] = len(zero_reg.findall(cleaned_text))\n",
    "    degree_counts['MPH'] = len(MPH_reg.findall(cleaned_text))\n",
    "    degree_counts['MS'] = len(MS_reg.findall(cleaned_text))\n",
    "    degree_counts['JD'] = len(JD_reg.findall(cleaned_text))\n",
    "    \n",
    "    # Convert back to a normal dict\n",
    "    degree_counts = dict(degree_counts)\n",
    "    \n",
    "    return degree_counts\n",
    "    "
   ]
  },
  {
   "cell_type": "code",
   "execution_count": 45,
   "metadata": {},
   "outputs": [
    {
     "name": "stdout",
     "output_type": "stream",
     "text": [
      "{'MD': 1, 'MA': 1, 'SCD': 6, 'BSED': 1, 'PHD': 31, '0': 1, 'MPH': 2, 'MS': 2, 'JD': 1}\n"
     ]
    }
   ],
   "source": [
    "count_degrees(faculty_path)"
   ]
  },
  {
   "cell_type": "code",
   "execution_count": 26,
   "metadata": {},
   "outputs": [],
   "source": [
    "test_str = 'foo'\n",
    "test_str.split?"
   ]
  },
  {
   "cell_type": "code",
   "execution_count": 36,
   "metadata": {},
   "outputs": [
    {
     "ename": "TypeError",
     "evalue": "first argument must be callable or None",
     "output_type": "error",
     "traceback": [
      "\u001b[0;31m---------------------------------------------------------------------------\u001b[0m",
      "\u001b[0;31mTypeError\u001b[0m                                 Traceback (most recent call last)",
      "\u001b[0;32m<ipython-input-36-4694b150fc96>\u001b[0m in \u001b[0;36m<module>\u001b[0;34m\u001b[0m\n\u001b[0;32m----> 1\u001b[0;31m \u001b[0mtest_dict\u001b[0m \u001b[0;34m=\u001b[0m \u001b[0mdefaultdict\u001b[0m\u001b[0;34m(\u001b[0m\u001b[0;36m0\u001b[0m\u001b[0;34m)\u001b[0m\u001b[0;34m\u001b[0m\u001b[0;34m\u001b[0m\u001b[0m\n\u001b[0m\u001b[1;32m      2\u001b[0m \u001b[0mget_ipython\u001b[0m\u001b[0;34m(\u001b[0m\u001b[0;34m)\u001b[0m\u001b[0;34m.\u001b[0m\u001b[0mrun_line_magic\u001b[0m\u001b[0;34m(\u001b[0m\u001b[0;34m'pinfo'\u001b[0m\u001b[0;34m,\u001b[0m \u001b[0;34m'test_dict'\u001b[0m\u001b[0;34m)\u001b[0m\u001b[0;34m\u001b[0m\u001b[0;34m\u001b[0m\u001b[0m\n",
      "\u001b[0;31mTypeError\u001b[0m: first argument must be callable or None"
     ]
    }
   ],
   "source": [
    "test_dict = defaultdict(0)\n",
    "test_dict?"
   ]
  },
  {
   "cell_type": "code",
   "execution_count": 41,
   "metadata": {},
   "outputs": [
    {
     "ename": "AttributeError",
     "evalue": "'list' object has no attribute 'size'",
     "output_type": "error",
     "traceback": [
      "\u001b[0;31m---------------------------------------------------------------------------\u001b[0m",
      "\u001b[0;31mAttributeError\u001b[0m                            Traceback (most recent call last)",
      "\u001b[0;32m<ipython-input-41-6591f56f0b33>\u001b[0m in \u001b[0;36m<module>\u001b[0;34m\u001b[0m\n\u001b[0;32m----> 1\u001b[0;31m \u001b[0;34m[\u001b[0m\u001b[0;36m1\u001b[0m\u001b[0;34m,\u001b[0m \u001b[0;36m2\u001b[0m\u001b[0;34m,\u001b[0m \u001b[0;36m3\u001b[0m\u001b[0;34m]\u001b[0m\u001b[0;34m.\u001b[0m\u001b[0msize\u001b[0m\u001b[0;34m\u001b[0m\u001b[0;34m\u001b[0m\u001b[0m\n\u001b[0m",
      "\u001b[0;31mAttributeError\u001b[0m: 'list' object has no attribute 'size'"
     ]
    }
   ],
   "source": [
    "[1, 2, 3].size"
   ]
  },
  {
   "cell_type": "code",
   "execution_count": null,
   "metadata": {},
   "outputs": [],
   "source": []
  }
 ],
 "metadata": {
  "kernelspec": {
   "display_name": "Python 3",
   "language": "python",
   "name": "python3"
  },
  "language_info": {
   "codemirror_mode": {
    "name": "ipython",
    "version": 3
   },
   "file_extension": ".py",
   "mimetype": "text/x-python",
   "name": "python",
   "nbconvert_exporter": "python",
   "pygments_lexer": "ipython3",
   "version": "3.7.2"
  }
 },
 "nbformat": 4,
 "nbformat_minor": 2
}
