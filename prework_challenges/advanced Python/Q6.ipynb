{
 "cells": [
  {
   "cell_type": "code",
   "execution_count": 1,
   "metadata": {},
   "outputs": [],
   "source": [
    "faculty_path = './temp_dir/faculty.csv'"
   ]
  },
  {
   "cell_type": "code",
   "execution_count": 20,
   "metadata": {},
   "outputs": [],
   "source": [
    "from collections import defaultdict\n",
    "import re\n",
    "\n",
    "def get_dict():\n",
    "    \n",
    "    # Load data\n",
    "    with open(faculty_path, 'r') as f:\n",
    "        orig_file = []\n",
    "        for line in f:\n",
    "            orig_file.append(line)\n",
    "        f.close()\n",
    "    \n",
    "    # Clean data, getting rid of column names and all other columns\n",
    "    del orig_file[0]\n",
    "    \n",
    "    text = []\n",
    "    for line in orig_file:\n",
    "        text.append(line.split(','))\n",
    "        \n",
    "    cleaned_text = []\n",
    "    for line in text:\n",
    "        cleaned_text.append(line)\n",
    "    \n",
    "    # Remove first and middle names, and trailing \\n\n",
    "    lastname_re = re.compile(r'(\\s)(\\w+$)')\n",
    "    \n",
    "    for line in cleaned_text:\n",
    "        line[0] = lastname_re.search(line[0]).group(2)\n",
    "        line[3] = line[3][:-1]\n",
    "    \n",
    "    # Construct defaultdict to collect data\n",
    "    directory = defaultdict(list)\n",
    "    \n",
    "    # Populate directory with data\n",
    "    for line in cleaned_text:\n",
    "        directory[line[0]].append(line[1:])\n",
    "    \n",
    "    return directory"
   ]
  },
  {
   "cell_type": "code",
   "execution_count": 21,
   "metadata": {},
   "outputs": [
    {
     "name": "stdout",
     "output_type": "stream",
     "text": [
      "[['Bellamy', ' Sc.D.', 'Associate Professor of Biostatistics', 'bellamys@mail.med.upenn.edu'], ['Bilker', 'Ph.D.', 'Professor of Biostatistics', 'warren@upenn.edu'], ['Bryan', ' PhD', 'Assistant Professor of Biostatistics', 'bryanma@upenn.edu'], ['Chen', ' Ph.D.', 'Associate Professor of Biostatistics', 'jinboche@upenn.edu'], ['Ellenberg', ' Ph.D.', 'Professor of Biostatistics', 'sellenbe@upenn.edu'], ['Ellenberg', ' Ph.D.', 'Professor of Biostatistics', 'jellenbe@mail.med.upenn.edu'], ['Feng', ' Ph.D', 'Assistant Professor of Biostatistics', 'ruifeng@upenn.edu'], ['French', ' PhD', 'Associate Professor of Biostatistics', 'bcfrench@mail.med.upenn.edu'], ['Gimotty', ' Ph.D', 'Professor of Biostatistics', 'pgimotty@upenn.edu'], ['Guo', ' Ph.D', 'Professor of Biostatistics', 'wguo@mail.med.upenn.edu'], ['Hsu', ' Ph.D.', 'Assistant Professor of Biostatistics', 'hsu9@mail.med.upenn.edu'], ['Hubbard', ' PhD', 'Associate Professor of Biostatistics', 'rhubb@mail.med.upenn.edu'], ['Hwang', ' Ph.D.', 'Associate Professor of Biostatistics', 'whwang@mail.med.upenn.edu'], ['Joffe', ' MD MPH Ph.D', 'Professor of Biostatistics', 'mjoffe@mail.med.upenn.edu'], ['Landis', ' B.S.Ed. M.S. Ph.D.', 'Professor of Biostatistics', 'jrlandis@mail.med.upenn.edu'], ['Li', ' Ph.D.', 'Assistant Professor of Biostatistics', 'liy3@email.chop.edu'], ['Li', ' Ph.D.', 'Associate Professor of Biostatistics', 'mingyao@mail.med.upenn.edu'], ['Li', ' Ph.D', 'Professor of Biostatistics', 'hongzhe@upenn.edu'], ['Localio', ' JD MA MPH MS PhD', 'Associate Professor of Biostatistics', 'rlocalio@upenn.edu'], ['Mitra', ' Ph.D.', 'Associate Professor of Biostatistics', 'nanditam@mail.med.upenn.edu'], ['Morales', ' Sc.D.', 'Associate Professor of Biostatistics', 'knashawn@mail.med.upenn.edu'], ['Propert', ' Sc.D.', 'Professor of Biostatistics', 'propert@mail.med.upenn.edu'], ['Putt', ' PhD ScD', 'Professor of Biostatistics', 'mputt@mail.med.upenn.edu'], ['Ratcliffe', ' Ph.D.', 'Associate Professor of Biostatistics', 'sratclif@upenn.edu'], ['Ross', ' PhD', 'Assistant Professor is Biostatistics', 'michross@upenn.edu'], ['Roy', ' Ph.D.', 'Associate Professor of Biostatistics', 'jaroy@mail.med.upenn.edu'], ['Sammel', ' Sc.D.', 'Professor of Biostatistics', 'msammel@cceb.med.upenn.edu'], ['Shaw', ' PhD', 'Assistant Professor of Biostatistics', 'shawp@upenn.edu'], ['Shinohara', '0', 'Assistant Professor of Biostatistics', 'rshi@mail.med.upenn.edu'], ['Shou', ' Ph.D.', 'Assistant Professor of Biostatistics', 'hshou@mail.med.upenn.edu'], ['Shults', ' Ph.D.', 'Professor of Biostatistics', 'jshults@mail.med.upenn.edu'], ['Stephens', ' Ph.D.', 'Assistant Professor of Biostatistics', 'alisaste@mail.med.upenn.edu'], ['Troxel', ' ScD', 'Professor of Biostatistics', 'atroxel@mail.med.upenn.edu'], ['Xiao', ' PhD', 'Assistant Professor of Biostatistics', 'rxiao@mail.med.upenn.edu'], ['Xie', ' Ph.D.', 'Associate Professor of Biostatistics', 'sxie@mail.med.upenn.edu'], ['Xie', ' PhD', 'Assistant Professor of Biostatistics', 'dxie@upenn.edu'], ['Yang', ' Ph.D.', 'Assistant Professor of Biostatistics', 'weiyang@mail.med.upenn.edu']]\n",
      "defaultdict(<class 'list'>, {'Bellamy': [[' Sc.D.', 'Associate Professor of Biostatistics', 'bellamys@mail.med.upenn.edu']], 'Bilker': [['Ph.D.', 'Professor of Biostatistics', 'warren@upenn.edu']], 'Bryan': [[' PhD', 'Assistant Professor of Biostatistics', 'bryanma@upenn.edu']], 'Chen': [[' Ph.D.', 'Associate Professor of Biostatistics', 'jinboche@upenn.edu']], 'Ellenberg': [[' Ph.D.', 'Professor of Biostatistics', 'sellenbe@upenn.edu'], [' Ph.D.', 'Professor of Biostatistics', 'jellenbe@mail.med.upenn.edu']], 'Feng': [[' Ph.D', 'Assistant Professor of Biostatistics', 'ruifeng@upenn.edu']], 'French': [[' PhD', 'Associate Professor of Biostatistics', 'bcfrench@mail.med.upenn.edu']], 'Gimotty': [[' Ph.D', 'Professor of Biostatistics', 'pgimotty@upenn.edu']], 'Guo': [[' Ph.D', 'Professor of Biostatistics', 'wguo@mail.med.upenn.edu']], 'Hsu': [[' Ph.D.', 'Assistant Professor of Biostatistics', 'hsu9@mail.med.upenn.edu']], 'Hubbard': [[' PhD', 'Associate Professor of Biostatistics', 'rhubb@mail.med.upenn.edu']], 'Hwang': [[' Ph.D.', 'Associate Professor of Biostatistics', 'whwang@mail.med.upenn.edu']], 'Joffe': [[' MD MPH Ph.D', 'Professor of Biostatistics', 'mjoffe@mail.med.upenn.edu']], 'Landis': [[' B.S.Ed. M.S. Ph.D.', 'Professor of Biostatistics', 'jrlandis@mail.med.upenn.edu']], 'Li': [[' Ph.D.', 'Assistant Professor of Biostatistics', 'liy3@email.chop.edu'], [' Ph.D.', 'Associate Professor of Biostatistics', 'mingyao@mail.med.upenn.edu'], [' Ph.D', 'Professor of Biostatistics', 'hongzhe@upenn.edu']], 'Localio': [[' JD MA MPH MS PhD', 'Associate Professor of Biostatistics', 'rlocalio@upenn.edu']], 'Mitra': [[' Ph.D.', 'Associate Professor of Biostatistics', 'nanditam@mail.med.upenn.edu']], 'Morales': [[' Sc.D.', 'Associate Professor of Biostatistics', 'knashawn@mail.med.upenn.edu']], 'Propert': [[' Sc.D.', 'Professor of Biostatistics', 'propert@mail.med.upenn.edu']], 'Putt': [[' PhD ScD', 'Professor of Biostatistics', 'mputt@mail.med.upenn.edu']], 'Ratcliffe': [[' Ph.D.', 'Associate Professor of Biostatistics', 'sratclif@upenn.edu']], 'Ross': [[' PhD', 'Assistant Professor is Biostatistics', 'michross@upenn.edu']], 'Roy': [[' Ph.D.', 'Associate Professor of Biostatistics', 'jaroy@mail.med.upenn.edu']], 'Sammel': [[' Sc.D.', 'Professor of Biostatistics', 'msammel@cceb.med.upenn.edu']], 'Shaw': [[' PhD', 'Assistant Professor of Biostatistics', 'shawp@upenn.edu']], 'Shinohara': [['0', 'Assistant Professor of Biostatistics', 'rshi@mail.med.upenn.edu']], 'Shou': [[' Ph.D.', 'Assistant Professor of Biostatistics', 'hshou@mail.med.upenn.edu']], 'Shults': [[' Ph.D.', 'Professor of Biostatistics', 'jshults@mail.med.upenn.edu']], 'Stephens': [[' Ph.D.', 'Assistant Professor of Biostatistics', 'alisaste@mail.med.upenn.edu']], 'Troxel': [[' ScD', 'Professor of Biostatistics', 'atroxel@mail.med.upenn.edu']], 'Xiao': [[' PhD', 'Assistant Professor of Biostatistics', 'rxiao@mail.med.upenn.edu']], 'Xie': [[' Ph.D.', 'Associate Professor of Biostatistics', 'sxie@mail.med.upenn.edu'], [' PhD', 'Assistant Professor of Biostatistics', 'dxie@upenn.edu']], 'Yang': [[' Ph.D.', 'Assistant Professor of Biostatistics', 'weiyang@mail.med.upenn.edu']]})\n"
     ]
    }
   ],
   "source": [
    "get_dict()"
   ]
  },
  {
   "cell_type": "code",
   "execution_count": null,
   "metadata": {},
   "outputs": [],
   "source": []
  }
 ],
 "metadata": {
  "kernelspec": {
   "display_name": "Python 3",
   "language": "python",
   "name": "python3"
  },
  "language_info": {
   "codemirror_mode": {
    "name": "ipython",
    "version": 3
   },
   "file_extension": ".py",
   "mimetype": "text/x-python",
   "name": "python",
   "nbconvert_exporter": "python",
   "pygments_lexer": "ipython3",
   "version": "3.7.2"
  }
 },
 "nbformat": 4,
 "nbformat_minor": 2
}
