{
 "cells": [
  {
   "cell_type": "code",
   "execution_count": 7,
   "metadata": {},
   "outputs": [],
   "source": [
    "import re"
   ]
  },
  {
   "cell_type": "code",
   "execution_count": 2,
   "metadata": {},
   "outputs": [],
   "source": [
    "faculty_path = './temp_dir/faculty.csv'"
   ]
  },
  {
   "cell_type": "code",
   "execution_count": 12,
   "metadata": {},
   "outputs": [],
   "source": [
    "import re\n",
    "\n",
    "def count_titles(csv_file_name):\n",
    "    \n",
    "    # Load data\n",
    "    with open(csv_file_name, 'r') as f:\n",
    "        orig_file = []\n",
    "        for line in f:\n",
    "            orig_file.append(line)\n",
    "        f.close()\n",
    "    \n",
    "    # Clean data, getting rid of column names and all other columns\n",
    "    del orig_file[0]\n",
    "    \n",
    "    text = []\n",
    "    for line in orig_file:\n",
    "        text.append(line.split(','))\n",
    "        \n",
    "    cleaned_text = []\n",
    "    for line in text:\n",
    "        cleaned_text.append(line[2])\n",
    "    \n",
    "    # Setup regexes\n",
    "    prof_re = re.compile('^Professor')\n",
    "    assc_re = re.compile('Associate')\n",
    "    asst_re = re.compile('Assistant')\n",
    "    \n",
    "    # Setup count dict\n",
    "    titlecounts = {'professor': 0, 'associate': 0, 'assistant': 0}\n",
    "    \n",
    "    # Count the titles\n",
    "    for line in cleaned_text:\n",
    "        if prof_re.search(line):\n",
    "            titlecounts['professor'] += 1\n",
    "        elif assc_re.search(line):\n",
    "            titlecounts['associate'] += 1\n",
    "        elif asst_re.search(line):\n",
    "            titlecounts['assistant'] += 1\n",
    "    \n",
    "    return titlecounts"
   ]
  },
  {
   "cell_type": "code",
   "execution_count": 13,
   "metadata": {},
   "outputs": [
    {
     "data": {
      "text/plain": [
       "{'professor': 13, 'associate': 12, 'assistant': 12}"
      ]
     },
     "execution_count": 13,
     "metadata": {},
     "output_type": "execute_result"
    }
   ],
   "source": [
    "titlecounts = count_titles(faculty_path)\n",
    "titlecounts"
   ]
  },
  {
   "cell_type": "code",
   "execution_count": null,
   "metadata": {},
   "outputs": [],
   "source": []
  }
 ],
 "metadata": {
  "kernelspec": {
   "display_name": "Python 3",
   "language": "python",
   "name": "python3"
  },
  "language_info": {
   "codemirror_mode": {
    "name": "ipython",
    "version": 3
   },
   "file_extension": ".py",
   "mimetype": "text/x-python",
   "name": "python",
   "nbconvert_exporter": "python",
   "pygments_lexer": "ipython3",
   "version": "3.7.2"
  }
 },
 "nbformat": 4,
 "nbformat_minor": 2
}
