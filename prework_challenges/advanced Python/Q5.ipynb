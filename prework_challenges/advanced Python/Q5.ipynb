{
 "cells": [
  {
   "cell_type": "code",
   "execution_count": 1,
   "metadata": {},
   "outputs": [],
   "source": [
    "test_emails = ['alisaste@mail.med.upenn.edu',\n",
    " 'atroxel@mail.med.upenn.edu',\n",
    " 'bcfrench@mail.med.upenn.edu',\n",
    " 'bellamys@mail.med.upenn.edu',\n",
    " 'bryanma@upenn.edu',\n",
    " 'dxie@upenn.edu',\n",
    " 'hongzhe@upenn.edu',\n",
    " 'hshou@mail.med.upenn.edu',\n",
    " 'hsu9@mail.med.upenn.edu',\n",
    " 'jaroy@mail.med.upenn.edu',\n",
    " 'jellenbe@mail.med.upenn.edu',\n",
    " 'jinboche@upenn.edu',\n",
    " 'jrlandis@mail.med.upenn.edu',\n",
    " 'jshults@mail.med.upenn.edu',\n",
    " 'knashawn@mail.med.upenn.edu',\n",
    " 'liy3@email.chop.edu',\n",
    " 'michross@upenn.edu',\n",
    " 'mingyao@mail.med.upenn.edu',\n",
    " 'mjoffe@mail.med.upenn.edu',\n",
    " 'mputt@mail.med.upenn.edu',\n",
    " 'msammel@cceb.med.upenn.edu',\n",
    " 'nanditam@mail.med.upenn.edu',\n",
    " 'pgimotty@upenn.edu',\n",
    " 'propert@mail.med.upenn.edu',\n",
    " 'rhubb@mail.med.upenn.edu',\n",
    " 'rlocalio@upenn.edu',\n",
    " 'rshi@mail.med.upenn.edu',\n",
    " 'ruifeng@upenn.edu',\n",
    " 'rxiao@mail.med.upenn.edu',\n",
    " 'sellenbe@upenn.edu',\n",
    " 'shawp@upenn.edu',\n",
    " 'sratclif@upenn.edu',\n",
    " 'sxie@mail.med.upenn.edu',\n",
    " 'warren@upenn.edu',\n",
    " 'weiyang@mail.med.upenn.edu',\n",
    " 'wguo@mail.med.upenn.edu',\n",
    " 'whwang@mail.med.upenn.edu']"
   ]
  },
  {
   "cell_type": "code",
   "execution_count": 11,
   "metadata": {},
   "outputs": [],
   "source": [
    "def write_to_csv(list_of_emails):\n",
    "    \n",
    "    # Add header to the list\n",
    "    new_list = ['list_of_emails']\n",
    "    new_list = new_list + list_of_emails\n",
    "    \n",
    "    # Write list to email.csv\n",
    "    with open('emails.csv', 'w') as f:\n",
    "        for item in new_list:\n",
    "            f.write(item + '\\n')\n",
    "        f.close()"
   ]
  },
  {
   "cell_type": "code",
   "execution_count": 12,
   "metadata": {},
   "outputs": [],
   "source": [
    "write_to_csv(test_emails)"
   ]
  },
  {
   "cell_type": "code",
   "execution_count": null,
   "metadata": {},
   "outputs": [],
   "source": []
  }
 ],
 "metadata": {
  "kernelspec": {
   "display_name": "Python 3",
   "language": "python",
   "name": "python3"
  },
  "language_info": {
   "codemirror_mode": {
    "name": "ipython",
    "version": 3
   },
   "file_extension": ".py",
   "mimetype": "text/x-python",
   "name": "python",
   "nbconvert_exporter": "python",
   "pygments_lexer": "ipython3",
   "version": "3.7.2"
  }
 },
 "nbformat": 4,
 "nbformat_minor": 2
}
