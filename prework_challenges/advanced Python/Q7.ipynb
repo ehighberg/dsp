{
 "cells": [
  {
   "cell_type": "code",
   "execution_count": 8,
   "metadata": {},
   "outputs": [],
   "source": [
    "from collections import defaultdict\n",
    "\n",
    "faculty_path = 'faculty.csv'\n",
    "\n",
    "def get_dict():\n",
    "    \n",
    "    # Load data\n",
    "    with open(faculty_path, 'r') as f:\n",
    "        orig_file = []\n",
    "        for line in f:\n",
    "            orig_file.append(line)\n",
    "        f.close()\n",
    "    \n",
    "    # Clean data, getting rid of column names and all other columns\n",
    "    del orig_file[0]\n",
    "    \n",
    "    text = []\n",
    "    for line in orig_file:\n",
    "        text.append(line.split(','))\n",
    "        \n",
    "    cleaned_text = []\n",
    "    for line in text:\n",
    "        \n",
    "        # Remove trailing newlines and convert names to tuples\n",
    "        line[-1] = line[-1][:-1]\n",
    "        line[0] = tuple(line[0].split(' '))\n",
    "        \n",
    "        cleaned_text.append(line)\n",
    "    \n",
    "    # Create and populate defaultdict\n",
    "    directory = defaultdict(list)\n",
    "    \n",
    "    for line in cleaned_text:\n",
    "        directory[line[0]] = line[1:]\n",
    "    \n",
    "    return directory"
   ]
  },
  {
   "cell_type": "code",
   "execution_count": 9,
   "metadata": {},
   "outputs": [
    {
     "name": "stdout",
     "output_type": "stream",
     "text": [
      "[[('Scarlett', 'L.', 'Bellamy'), ' Sc.D.', 'Associate Professor of Biostatistics', 'bellamys@mail.med.upenn.edu'], [('Warren', 'B.', 'Bilker'), 'Ph.D.', 'Professor of Biostatistics', 'warren@upenn.edu'], [('Matthew', 'W', 'Bryan'), ' PhD', 'Assistant Professor of Biostatistics', 'bryanma@upenn.edu'], [('Jinbo', 'Chen'), ' Ph.D.', 'Associate Professor of Biostatistics', 'jinboche@upenn.edu'], [('Susan', 'S', 'Ellenberg'), ' Ph.D.', 'Professor of Biostatistics', 'sellenbe@upenn.edu'], [('Jonas', 'H.', 'Ellenberg'), ' Ph.D.', 'Professor of Biostatistics', 'jellenbe@mail.med.upenn.edu'], [('Rui', 'Feng'), ' Ph.D', 'Assistant Professor of Biostatistics', 'ruifeng@upenn.edu'], [('Benjamin', 'C.', 'French'), ' PhD', 'Associate Professor of Biostatistics', 'bcfrench@mail.med.upenn.edu'], [('Phyllis', 'A.', 'Gimotty'), ' Ph.D', 'Professor of Biostatistics', 'pgimotty@upenn.edu'], [('Wensheng', 'Guo'), ' Ph.D', 'Professor of Biostatistics', 'wguo@mail.med.upenn.edu'], [('Yenchih', 'Hsu'), ' Ph.D.', 'Assistant Professor of Biostatistics', 'hsu9@mail.med.upenn.edu'], [('Rebecca', 'A', 'Hubbard'), ' PhD', 'Associate Professor of Biostatistics', 'rhubb@mail.med.upenn.edu'], [('Wei-Ting', 'Hwang'), ' Ph.D.', 'Associate Professor of Biostatistics', 'whwang@mail.med.upenn.edu'], [('Marshall', 'M.', 'Joffe'), ' MD MPH Ph.D', 'Professor of Biostatistics', 'mjoffe@mail.med.upenn.edu'], [('J.', 'Richard', 'Landis'), ' B.S.Ed. M.S. Ph.D.', 'Professor of Biostatistics', 'jrlandis@mail.med.upenn.edu'], [('Yimei', 'Li'), ' Ph.D.', 'Assistant Professor of Biostatistics', 'liy3@email.chop.edu'], [('Mingyao', 'Li'), ' Ph.D.', 'Associate Professor of Biostatistics', 'mingyao@mail.med.upenn.edu'], [('Hongzhe', 'Li'), ' Ph.D', 'Professor of Biostatistics', 'hongzhe@upenn.edu'], [('A.', 'Russell', 'Localio'), ' JD MA MPH MS PhD', 'Associate Professor of Biostatistics', 'rlocalio@upenn.edu'], [('Nandita', 'Mitra'), ' Ph.D.', 'Associate Professor of Biostatistics', 'nanditam@mail.med.upenn.edu'], [('Knashawn', 'H.', 'Morales'), ' Sc.D.', 'Associate Professor of Biostatistics', 'knashawn@mail.med.upenn.edu'], [('Kathleen', 'Joy', 'Propert'), ' Sc.D.', 'Professor of Biostatistics', 'propert@mail.med.upenn.edu'], [('Mary', 'E.', 'Putt'), ' PhD ScD', 'Professor of Biostatistics', 'mputt@mail.med.upenn.edu'], [('Sarah', 'Jane', 'Ratcliffe'), ' Ph.D.', 'Associate Professor of Biostatistics', 'sratclif@upenn.edu'], [('Michelle', 'Elana', 'Ross'), ' PhD', 'Assistant Professor is Biostatistics', 'michross@upenn.edu'], [('Jason', 'A.', 'Roy'), ' Ph.D.', 'Associate Professor of Biostatistics', 'jaroy@mail.med.upenn.edu'], [('Mary', 'D.', 'Sammel'), ' Sc.D.', 'Professor of Biostatistics', 'msammel@cceb.med.upenn.edu'], [('Pamela', 'Ann', 'Shaw'), ' PhD', 'Assistant Professor of Biostatistics', 'shawp@upenn.edu'], [('Russell', 'Takeshi', 'Shinohara'), '0', 'Assistant Professor of Biostatistics', 'rshi@mail.med.upenn.edu'], [('Haochang', 'Shou'), ' Ph.D.', 'Assistant Professor of Biostatistics', 'hshou@mail.med.upenn.edu'], [('Justine', 'Shults'), ' Ph.D.', 'Professor of Biostatistics', 'jshults@mail.med.upenn.edu'], [('Alisa', 'Jane', 'Stephens'), ' Ph.D.', 'Assistant Professor of Biostatistics', 'alisaste@mail.med.upenn.edu'], [('Andrea', 'Beth', 'Troxel'), ' ScD', 'Professor of Biostatistics', 'atroxel@mail.med.upenn.edu'], [('Rui', 'Xiao'), ' PhD', 'Assistant Professor of Biostatistics', 'rxiao@mail.med.upenn.edu'], [('Sharon', 'Xiangwen', 'Xie'), ' Ph.D.', 'Associate Professor of Biostatistics', 'sxie@mail.med.upenn.edu'], [('Dawei', 'Xie'), ' PhD', 'Assistant Professor of Biostatistics', 'dxie@upenn.edu'], [('Wei', '(Peter)', 'Yang'), ' Ph.D.', 'Assistant Professor of Biostatistics', 'weiyang@mail.med.upenn.edu']]\n",
      "defaultdict(<class 'list'>, {('Scarlett', 'L.', 'Bellamy'): [' Sc.D.', 'Associate Professor of Biostatistics', 'bellamys@mail.med.upenn.edu'], ('Warren', 'B.', 'Bilker'): ['Ph.D.', 'Professor of Biostatistics', 'warren@upenn.edu'], ('Matthew', 'W', 'Bryan'): [' PhD', 'Assistant Professor of Biostatistics', 'bryanma@upenn.edu'], ('Jinbo', 'Chen'): [' Ph.D.', 'Associate Professor of Biostatistics', 'jinboche@upenn.edu'], ('Susan', 'S', 'Ellenberg'): [' Ph.D.', 'Professor of Biostatistics', 'sellenbe@upenn.edu'], ('Jonas', 'H.', 'Ellenberg'): [' Ph.D.', 'Professor of Biostatistics', 'jellenbe@mail.med.upenn.edu'], ('Rui', 'Feng'): [' Ph.D', 'Assistant Professor of Biostatistics', 'ruifeng@upenn.edu'], ('Benjamin', 'C.', 'French'): [' PhD', 'Associate Professor of Biostatistics', 'bcfrench@mail.med.upenn.edu'], ('Phyllis', 'A.', 'Gimotty'): [' Ph.D', 'Professor of Biostatistics', 'pgimotty@upenn.edu'], ('Wensheng', 'Guo'): [' Ph.D', 'Professor of Biostatistics', 'wguo@mail.med.upenn.edu'], ('Yenchih', 'Hsu'): [' Ph.D.', 'Assistant Professor of Biostatistics', 'hsu9@mail.med.upenn.edu'], ('Rebecca', 'A', 'Hubbard'): [' PhD', 'Associate Professor of Biostatistics', 'rhubb@mail.med.upenn.edu'], ('Wei-Ting', 'Hwang'): [' Ph.D.', 'Associate Professor of Biostatistics', 'whwang@mail.med.upenn.edu'], ('Marshall', 'M.', 'Joffe'): [' MD MPH Ph.D', 'Professor of Biostatistics', 'mjoffe@mail.med.upenn.edu'], ('J.', 'Richard', 'Landis'): [' B.S.Ed. M.S. Ph.D.', 'Professor of Biostatistics', 'jrlandis@mail.med.upenn.edu'], ('Yimei', 'Li'): [' Ph.D.', 'Assistant Professor of Biostatistics', 'liy3@email.chop.edu'], ('Mingyao', 'Li'): [' Ph.D.', 'Associate Professor of Biostatistics', 'mingyao@mail.med.upenn.edu'], ('Hongzhe', 'Li'): [' Ph.D', 'Professor of Biostatistics', 'hongzhe@upenn.edu'], ('A.', 'Russell', 'Localio'): [' JD MA MPH MS PhD', 'Associate Professor of Biostatistics', 'rlocalio@upenn.edu'], ('Nandita', 'Mitra'): [' Ph.D.', 'Associate Professor of Biostatistics', 'nanditam@mail.med.upenn.edu'], ('Knashawn', 'H.', 'Morales'): [' Sc.D.', 'Associate Professor of Biostatistics', 'knashawn@mail.med.upenn.edu'], ('Kathleen', 'Joy', 'Propert'): [' Sc.D.', 'Professor of Biostatistics', 'propert@mail.med.upenn.edu'], ('Mary', 'E.', 'Putt'): [' PhD ScD', 'Professor of Biostatistics', 'mputt@mail.med.upenn.edu'], ('Sarah', 'Jane', 'Ratcliffe'): [' Ph.D.', 'Associate Professor of Biostatistics', 'sratclif@upenn.edu'], ('Michelle', 'Elana', 'Ross'): [' PhD', 'Assistant Professor is Biostatistics', 'michross@upenn.edu'], ('Jason', 'A.', 'Roy'): [' Ph.D.', 'Associate Professor of Biostatistics', 'jaroy@mail.med.upenn.edu'], ('Mary', 'D.', 'Sammel'): [' Sc.D.', 'Professor of Biostatistics', 'msammel@cceb.med.upenn.edu'], ('Pamela', 'Ann', 'Shaw'): [' PhD', 'Assistant Professor of Biostatistics', 'shawp@upenn.edu'], ('Russell', 'Takeshi', 'Shinohara'): ['0', 'Assistant Professor of Biostatistics', 'rshi@mail.med.upenn.edu'], ('Haochang', 'Shou'): [' Ph.D.', 'Assistant Professor of Biostatistics', 'hshou@mail.med.upenn.edu'], ('Justine', 'Shults'): [' Ph.D.', 'Professor of Biostatistics', 'jshults@mail.med.upenn.edu'], ('Alisa', 'Jane', 'Stephens'): [' Ph.D.', 'Assistant Professor of Biostatistics', 'alisaste@mail.med.upenn.edu'], ('Andrea', 'Beth', 'Troxel'): [' ScD', 'Professor of Biostatistics', 'atroxel@mail.med.upenn.edu'], ('Rui', 'Xiao'): [' PhD', 'Assistant Professor of Biostatistics', 'rxiao@mail.med.upenn.edu'], ('Sharon', 'Xiangwen', 'Xie'): [' Ph.D.', 'Associate Professor of Biostatistics', 'sxie@mail.med.upenn.edu'], ('Dawei', 'Xie'): [' PhD', 'Assistant Professor of Biostatistics', 'dxie@upenn.edu'], ('Wei', '(Peter)', 'Yang'): [' Ph.D.', 'Assistant Professor of Biostatistics', 'weiyang@mail.med.upenn.edu']})\n"
     ]
    }
   ],
   "source": [
    "get_dict()"
   ]
  },
  {
   "cell_type": "code",
   "execution_count": null,
   "metadata": {},
   "outputs": [],
   "source": []
  }
 ],
 "metadata": {
  "kernelspec": {
   "display_name": "Python 3",
   "language": "python",
   "name": "python3"
  },
  "language_info": {
   "codemirror_mode": {
    "name": "ipython",
    "version": 3
   },
   "file_extension": ".py",
   "mimetype": "text/x-python",
   "name": "python",
   "nbconvert_exporter": "python",
   "pygments_lexer": "ipython3",
   "version": "3.7.2"
  }
 },
 "nbformat": 4,
 "nbformat_minor": 2
}
